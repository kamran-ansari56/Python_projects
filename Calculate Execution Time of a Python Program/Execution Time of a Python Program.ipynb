{
 "cells": [
  {
   "cell_type": "code",
   "execution_count": 2,
   "id": "cbb2fb54-a413-4a9f-9bc1-de11c155fdb9",
   "metadata": {},
   "outputs": [],
   "source": [
    "# Importing the Libraries\n",
    "from time import time"
   ]
  },
  {
   "cell_type": "code",
   "execution_count": 4,
   "id": "13774ff7-70cf-446d-a27d-055912ca05dd",
   "metadata": {},
   "outputs": [],
   "source": [
    "start = time()"
   ]
  },
  {
   "cell_type": "code",
   "execution_count": 12,
   "id": "6fb81460-c5ab-4ec0-8c10-34ee6d23d950",
   "metadata": {},
   "outputs": [
    {
     "name": "stdout",
     "output_type": "stream",
     "text": [
      " AI\n",
      "Execution Time:  138.33362293243408\n"
     ]
    }
   ],
   "source": [
    "# Python program to create acronyms\n",
    "word = \"Artificial Intelligence\"\n",
    "text = word.split()\n",
    "a = \" \"\n",
    "for i in text:\n",
    "    a = a + str(i[0]).upper()\n",
    "print(a)\n",
    "\n",
    "end = time()\n",
    "\n",
    "execuation_time = end - start\n",
    "print(f\"Execution Time: \", execuation_time)"
   ]
  },
  {
   "cell_type": "markdown",
   "id": "2eb1f0d8-8800-4594-8854-acf70ac510aa",
   "metadata": {},
   "source": [
    "#### Summary\n",
    "So this is how you can find the execution time of your program. For calculating the execution time of a program, we calculate the time taken by the program from its initiation till the final output."
   ]
  },
  {
   "cell_type": "code",
   "execution_count": null,
   "id": "8e200e46-88ee-4393-bbed-df5d59ebe1b7",
   "metadata": {},
   "outputs": [],
   "source": []
  }
 ],
 "metadata": {
  "kernelspec": {
   "display_name": "Python 3 (ipykernel)",
   "language": "python",
   "name": "python3"
  },
  "language_info": {
   "codemirror_mode": {
    "name": "ipython",
    "version": 3
   },
   "file_extension": ".py",
   "mimetype": "text/x-python",
   "name": "python",
   "nbconvert_exporter": "python",
   "pygments_lexer": "ipython3",
   "version": "3.12.7"
  }
 },
 "nbformat": 4,
 "nbformat_minor": 5
}
