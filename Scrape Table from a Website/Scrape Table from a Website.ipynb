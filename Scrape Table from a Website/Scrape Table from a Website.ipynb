{
 "cells": [
  {
   "cell_type": "code",
   "execution_count": 1,
   "id": "6248cb42-b6d8-4104-ac19-d89dde7235d4",
   "metadata": {},
   "outputs": [],
   "source": [
    "import urllib.request\n",
    "import pandas as pd"
   ]
  },
  {
   "cell_type": "code",
   "execution_count": 2,
   "id": "2458c3c2-58da-49d4-ab94-8494e001c9a9",
   "metadata": {},
   "outputs": [],
   "source": [
    "url = \"https://en.wikipedia.org/wiki/Programming_languages_used_in_most_popular_websites\""
   ]
  },
  {
   "cell_type": "code",
   "execution_count": 4,
   "id": "470b6e58-0c6f-41c8-a792-287533b574ee",
   "metadata": {},
   "outputs": [],
   "source": [
    "with urllib.request.urlopen(url) as i:\n",
    "    html = i.read()"
   ]
  },
  {
   "cell_type": "code",
   "execution_count": 5,
   "id": "40c78cf1-2f8d-48b5-b4d7-d5ee63971292",
   "metadata": {},
   "outputs": [],
   "source": [
    "data = pd.read_html(html)[0]"
   ]
  },
  {
   "cell_type": "code",
   "execution_count": 6,
   "id": "d6a4971e-2d0e-431f-a0ef-106686cea124",
   "metadata": {},
   "outputs": [
    {
     "data": {
      "text/html": [
       "<div>\n",
       "<style scoped>\n",
       "    .dataframe tbody tr th:only-of-type {\n",
       "        vertical-align: middle;\n",
       "    }\n",
       "\n",
       "    .dataframe tbody tr th {\n",
       "        vertical-align: top;\n",
       "    }\n",
       "\n",
       "    .dataframe thead th {\n",
       "        text-align: right;\n",
       "    }\n",
       "</style>\n",
       "<table border=\"1\" class=\"dataframe\">\n",
       "  <thead>\n",
       "    <tr style=\"text-align: right;\">\n",
       "      <th></th>\n",
       "      <th>Websites</th>\n",
       "      <th>Popularity (unique visitors per month)[1]</th>\n",
       "      <th>Front-end (Client-side)</th>\n",
       "      <th>Back-end (Server-side)</th>\n",
       "      <th>Database</th>\n",
       "    </tr>\n",
       "  </thead>\n",
       "  <tbody>\n",
       "    <tr>\n",
       "      <th>0</th>\n",
       "      <td>Google[2]</td>\n",
       "      <td>2800000000</td>\n",
       "      <td>JavaScript, TypeScript</td>\n",
       "      <td>C, C++, Go,[3] Java, Python, Node</td>\n",
       "      <td>Bigtable,[4] MariaDB[5]</td>\n",
       "    </tr>\n",
       "    <tr>\n",
       "      <th>1</th>\n",
       "      <td>Facebook</td>\n",
       "      <td>1120000000</td>\n",
       "      <td>JavaScript, TypeScript, Flow</td>\n",
       "      <td>Hack/HHVM, PHP, Python, C++, Java, Erlang, D,[...</td>\n",
       "      <td>MariaDB, MySQL,[8] HBase, Cassandra[9]</td>\n",
       "    </tr>\n",
       "    <tr>\n",
       "      <th>2</th>\n",
       "      <td>YouTube</td>\n",
       "      <td>1100000000</td>\n",
       "      <td>JavaScript, TypeScript</td>\n",
       "      <td>Python, C, C++, Java,[10] Go[11]</td>\n",
       "      <td>Vitess, BigTable, MariaDB[5]</td>\n",
       "    </tr>\n",
       "    <tr>\n",
       "      <th>3</th>\n",
       "      <td>Yahoo</td>\n",
       "      <td>750000000</td>\n",
       "      <td>JavaScript</td>\n",
       "      <td>PHP</td>\n",
       "      <td>PostgreSQL, HBase, Cassandra, MongoDB,[12]</td>\n",
       "    </tr>\n",
       "    <tr>\n",
       "      <th>4</th>\n",
       "      <td>Etsy</td>\n",
       "      <td>516,000,000 (Total, not unique)[13]</td>\n",
       "      <td>JavaScript</td>\n",
       "      <td>PHP[14]</td>\n",
       "      <td>MySQL, Redis[15]</td>\n",
       "    </tr>\n",
       "  </tbody>\n",
       "</table>\n",
       "</div>"
      ],
      "text/plain": [
       "    Websites Popularity (unique visitors per month)[1]  \\\n",
       "0  Google[2]                                2800000000   \n",
       "1   Facebook                                1120000000   \n",
       "2    YouTube                                1100000000   \n",
       "3      Yahoo                                 750000000   \n",
       "4       Etsy       516,000,000 (Total, not unique)[13]   \n",
       "\n",
       "        Front-end (Client-side)  \\\n",
       "0        JavaScript, TypeScript   \n",
       "1  JavaScript, TypeScript, Flow   \n",
       "2        JavaScript, TypeScript   \n",
       "3                    JavaScript   \n",
       "4                    JavaScript   \n",
       "\n",
       "                              Back-end (Server-side)  \\\n",
       "0                  C, C++, Go,[3] Java, Python, Node   \n",
       "1  Hack/HHVM, PHP, Python, C++, Java, Erlang, D,[...   \n",
       "2                   Python, C, C++, Java,[10] Go[11]   \n",
       "3                                                PHP   \n",
       "4                                            PHP[14]   \n",
       "\n",
       "                                     Database  \n",
       "0                     Bigtable,[4] MariaDB[5]  \n",
       "1      MariaDB, MySQL,[8] HBase, Cassandra[9]  \n",
       "2                Vitess, BigTable, MariaDB[5]  \n",
       "3  PostgreSQL, HBase, Cassandra, MongoDB,[12]  \n",
       "4                            MySQL, Redis[15]  "
      ]
     },
     "execution_count": 6,
     "metadata": {},
     "output_type": "execute_result"
    }
   ],
   "source": [
    "data.head()"
   ]
  },
  {
   "cell_type": "code",
   "execution_count": null,
   "id": "4d91d2b5-9b35-4143-985b-bc007a3eb475",
   "metadata": {},
   "outputs": [],
   "source": []
  }
 ],
 "metadata": {
  "kernelspec": {
   "display_name": "Python 3 (ipykernel)",
   "language": "python",
   "name": "python3"
  },
  "language_info": {
   "codemirror_mode": {
    "name": "ipython",
    "version": 3
   },
   "file_extension": ".py",
   "mimetype": "text/x-python",
   "name": "python",
   "nbconvert_exporter": "python",
   "pygments_lexer": "ipython3",
   "version": "3.13.5"
  }
 },
 "nbformat": 4,
 "nbformat_minor": 5
}
