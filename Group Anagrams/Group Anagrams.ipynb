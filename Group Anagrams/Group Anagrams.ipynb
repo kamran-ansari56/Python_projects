{
 "cells": [
  {
   "cell_type": "code",
   "execution_count": 7,
   "id": "c7d0172a-665e-4389-a734-3e0140b4c047",
   "metadata": {},
   "outputs": [],
   "source": [
    "from collections import defaultdict\n",
    "\n",
    "def group_anagrams(a):\n",
    "    dfdict = defaultdict(list)\n",
    "    for i in a:\n",
    "        sorted_i = \" \".join(sorted(i))\n",
    "        dfdict[sorted_i].append(i)\n",
    "    return dfdict.values()"
   ]
  },
  {
   "cell_type": "code",
   "execution_count": 9,
   "id": "49297705-c7f9-4a7f-9626-970a6a117bb3",
   "metadata": {},
   "outputs": [],
   "source": [
    "# Now let’s test the function by creating a list of words containing anagrams and some other words\n",
    "words = [\"tea\", \"eat\", \"bat\", \"ate\", \"arc\", \"car\"]"
   ]
  },
  {
   "cell_type": "code",
   "execution_count": 11,
   "id": "aba47ff7-3f82-4bc6-8883-273adda7bbe5",
   "metadata": {},
   "outputs": [
    {
     "data": {
      "text/plain": [
       "dict_values([['tea', 'eat', 'ate'], ['bat'], ['arc', 'car']])"
      ]
     },
     "execution_count": 11,
     "metadata": {},
     "output_type": "execute_result"
    }
   ],
   "source": [
    "group_anagrams(words)"
   ]
  },
  {
   "cell_type": "markdown",
   "id": "22d4081f-d26d-48de-9ba8-63b6d314f5fb",
   "metadata": {},
   "source": [
    "#### Summary\n",
    "Grouping anagrams is one of the popular questions in coding interviews. Here you have to write an algorithm to group all the words which are anagrams of each other."
   ]
  },
  {
   "cell_type": "code",
   "execution_count": null,
   "id": "95b78a8d-83d5-4c7e-a6c1-9aae9bc0ae16",
   "metadata": {},
   "outputs": [],
   "source": []
  }
 ],
 "metadata": {
  "kernelspec": {
   "display_name": "Python 3 (ipykernel)",
   "language": "python",
   "name": "python3"
  },
  "language_info": {
   "codemirror_mode": {
    "name": "ipython",
    "version": 3
   },
   "file_extension": ".py",
   "mimetype": "text/x-python",
   "name": "python",
   "nbconvert_exporter": "python",
   "pygments_lexer": "ipython3",
   "version": "3.12.7"
  }
 },
 "nbformat": 4,
 "nbformat_minor": 5
}
