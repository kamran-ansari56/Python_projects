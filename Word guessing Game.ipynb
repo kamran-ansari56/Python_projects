{
 "cells": [
  {
   "cell_type": "code",
   "execution_count": 1,
   "id": "eb6e047d",
   "metadata": {},
   "outputs": [],
   "source": [
    "# Import Module\n",
    "import random"
   ]
  },
  {
   "cell_type": "code",
   "execution_count": 2,
   "id": "5090789e",
   "metadata": {},
   "outputs": [
    {
     "name": "stdout",
     "output_type": "stream",
     "text": [
      "Good Luck ! kamran\n"
     ]
    }
   ],
   "source": [
    "# Getting the User's Name, and Greeting the User\n",
    "name = input(\"What is your name? \")\n",
    "print(\"Good Luck !\", name)"
   ]
  },
  {
   "cell_type": "code",
   "execution_count": null,
   "id": "ac26c2ce",
   "metadata": {},
   "outputs": [],
   "source": [
    "# List of Words and Choosing a Random Word\n",
    "words = ['rainbow', 'computer', 'science', 'programming', 'python', 'mathematics', 'player', 'condition', 'reverse', 'water', 'board', 'geeks']\n",
    "word = random.choice(words)"
   ]
  },
  {
   "cell_type": "code",
   "execution_count": 3,
   "id": "bb717fb8",
   "metadata": {},
   "outputs": [
    {
     "name": "stdout",
     "output_type": "stream",
     "text": [
      "Guess the characters\n"
     ]
    }
   ],
   "source": [
    "# Prompting the User to Guess\n",
    "print(\"Guess the characters\")"
   ]
  },
  {
   "cell_type": "code",
   "execution_count": null,
   "id": "98b3dbc7",
   "metadata": {},
   "outputs": [],
   "source": []
  }
 ],
 "metadata": {
  "kernelspec": {
   "display_name": "base",
   "language": "python",
   "name": "python3"
  },
  "language_info": {
   "codemirror_mode": {
    "name": "ipython",
    "version": 3
   },
   "file_extension": ".py",
   "mimetype": "text/x-python",
   "name": "python",
   "nbconvert_exporter": "python",
   "pygments_lexer": "ipython3",
   "version": "3.13.5"
  }
 },
 "nbformat": 4,
 "nbformat_minor": 5
}
