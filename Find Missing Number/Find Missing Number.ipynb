{
 "cells": [
  {
   "cell_type": "code",
   "execution_count": 1,
   "id": "f54392e6-a0c6-4c26-9029-bd94df338c1a",
   "metadata": {},
   "outputs": [],
   "source": [
    "def findMissingNumbers(n):\n",
    "    numbers = set(n)\n",
    "    length = len (n)\n",
    "    output = []\n",
    "    for i in range(1, n[-1]):\n",
    "        if i not in numbers:\n",
    "            output.append(i)\n",
    "    return output"
   ]
  },
  {
   "cell_type": "code",
   "execution_count": 3,
   "id": "452b0031-ece8-4511-9201-f6d088746d78",
   "metadata": {},
   "outputs": [],
   "source": [
    "listOfNumbers = [1, 2, 3, 5, 6, 7, 8, 9, 10, 11, 13, 14, 16]"
   ]
  },
  {
   "cell_type": "code",
   "execution_count": 5,
   "id": "7387b2e6-be66-4871-9826-96d0077fd045",
   "metadata": {},
   "outputs": [
    {
     "data": {
      "text/plain": [
       "[4, 12, 15]"
      ]
     },
     "execution_count": 5,
     "metadata": {},
     "output_type": "execute_result"
    }
   ],
   "source": [
    "findMissingNumbers(listOfNumbers)"
   ]
  },
  {
   "cell_type": "markdown",
   "id": "2d401bb2-fa2c-4fb5-9f39-48af16473516",
   "metadata": {},
   "source": [
    "#### Summary\n",
    "Finding the missing number in an array is a popular coding interview question. To find the missing number in an array, we need to iterate over the input array and store the numbers in another array that we didn’t find in the input array while iterating over it."
   ]
  },
  {
   "cell_type": "code",
   "execution_count": null,
   "id": "1ff61077-5ec9-4a7a-83e0-bed80f01cd3a",
   "metadata": {},
   "outputs": [],
   "source": []
  }
 ],
 "metadata": {
  "kernelspec": {
   "display_name": "Python 3 (ipykernel)",
   "language": "python",
   "name": "python3"
  },
  "language_info": {
   "codemirror_mode": {
    "name": "ipython",
    "version": 3
   },
   "file_extension": ".py",
   "mimetype": "text/x-python",
   "name": "python",
   "nbconvert_exporter": "python",
   "pygments_lexer": "ipython3",
   "version": "3.12.7"
  }
 },
 "nbformat": 4,
 "nbformat_minor": 5
}
